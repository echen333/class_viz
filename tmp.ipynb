{
 "cells": [
  {
   "cell_type": "code",
   "execution_count": 9,
   "metadata": {},
   "outputs": [
    {
     "data": {
      "text/html": [
       "<div>\n",
       "<style scoped>\n",
       "    .dataframe tbody tr th:only-of-type {\n",
       "        vertical-align: middle;\n",
       "    }\n",
       "\n",
       "    .dataframe tbody tr th {\n",
       "        vertical-align: top;\n",
       "    }\n",
       "\n",
       "    .dataframe thead th {\n",
       "        text-align: right;\n",
       "    }\n",
       "</style>\n",
       "<table border=\"1\" class=\"dataframe\">\n",
       "  <thead>\n",
       "    <tr style=\"text-align: right;\">\n",
       "      <th></th>\n",
       "      <th>code</th>\n",
       "      <th>title</th>\n",
       "      <th>credits</th>\n",
       "      <th>description</th>\n",
       "      <th>prerequisites</th>\n",
       "    </tr>\n",
       "  </thead>\n",
       "  <tbody>\n",
       "    <tr>\n",
       "      <th>0</th>\n",
       "      <td>ACCT 2101</td>\n",
       "      <td>Accounting I: Financial Accounting</td>\n",
       "      <td>3</td>\n",
       "      <td>A study of the underlying theory and applicati...</td>\n",
       "      <td>NaN</td>\n",
       "    </tr>\n",
       "    <tr>\n",
       "      <th>1</th>\n",
       "      <td>ACCT 2102</td>\n",
       "      <td>Accounting II: Managerial Accounting</td>\n",
       "      <td>3</td>\n",
       "      <td>A study of the underlying theory and applicati...</td>\n",
       "      <td>NaN</td>\n",
       "    </tr>\n",
       "    <tr>\n",
       "      <th>2</th>\n",
       "      <td>AE 1355</td>\n",
       "      <td>Aerospace Systems Design Competition I</td>\n",
       "      <td>3</td>\n",
       "      <td>Team-oriented aerospace systems design project...</td>\n",
       "      <td>NaN</td>\n",
       "    </tr>\n",
       "    <tr>\n",
       "      <th>3</th>\n",
       "      <td>AE 1601</td>\n",
       "      <td>Introduction to Aerospace Engineering</td>\n",
       "      <td>1</td>\n",
       "      <td>Overview of aerospace engineering. Common term...</td>\n",
       "      <td>Credit restriction: AE 1601 and; Credit restri...</td>\n",
       "    </tr>\n",
       "    <tr>\n",
       "      <th>4</th>\n",
       "      <td>AE 1750</td>\n",
       "      <td>Introduction to Bioengineering</td>\n",
       "      <td>3</td>\n",
       "      <td>An introduction to the field of bioengineering...</td>\n",
       "      <td>NaN</td>\n",
       "    </tr>\n",
       "  </tbody>\n",
       "</table>\n",
       "</div>"
      ],
      "text/plain": [
       "        code                                   title  credits  \\\n",
       "0  ACCT 2101      Accounting I: Financial Accounting        3   \n",
       "1  ACCT 2102    Accounting II: Managerial Accounting        3   \n",
       "2    AE 1355  Aerospace Systems Design Competition I        3   \n",
       "3    AE 1601   Introduction to Aerospace Engineering        1   \n",
       "4    AE 1750          Introduction to Bioengineering        3   \n",
       "\n",
       "                                         description  \\\n",
       "0  A study of the underlying theory and applicati...   \n",
       "1  A study of the underlying theory and applicati...   \n",
       "2  Team-oriented aerospace systems design project...   \n",
       "3  Overview of aerospace engineering. Common term...   \n",
       "4  An introduction to the field of bioengineering...   \n",
       "\n",
       "                                       prerequisites  \n",
       "0                                                NaN  \n",
       "1                                                NaN  \n",
       "2                                                NaN  \n",
       "3  Credit restriction: AE 1601 and; Credit restri...  \n",
       "4                                                NaN  "
      ]
     },
     "execution_count": 9,
     "metadata": {},
     "output_type": "execute_result"
    }
   ],
   "source": [
    "import pandas as pd\n",
    "\n",
    "df = pd.read_csv('gt_courses.csv')\n",
    "\n",
    "df.head()"
   ]
  },
  {
   "cell_type": "code",
   "execution_count": 11,
   "metadata": {},
   "outputs": [],
   "source": [
    "# df = df[df['subject'] == 'MATH']\n",
    "df = df[df['code'].str.contains('MATH')]"
   ]
  },
  {
   "cell_type": "code",
   "execution_count": 12,
   "metadata": {},
   "outputs": [],
   "source": [
    "df.to_csv('gt_spring_2025_math.csv', index=False)"
   ]
  },
  {
   "cell_type": "code",
   "execution_count": null,
   "metadata": {},
   "outputs": [],
   "source": []
  }
 ],
 "metadata": {
  "kernelspec": {
   "display_name": "Python 3",
   "language": "python",
   "name": "python3"
  },
  "language_info": {
   "codemirror_mode": {
    "name": "ipython",
    "version": 3
   },
   "file_extension": ".py",
   "mimetype": "text/x-python",
   "name": "python",
   "nbconvert_exporter": "python",
   "pygments_lexer": "ipython3",
   "version": "3.10.5"
  }
 },
 "nbformat": 4,
 "nbformat_minor": 2
}
